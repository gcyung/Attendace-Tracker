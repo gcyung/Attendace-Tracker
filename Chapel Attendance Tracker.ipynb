{
 "cells": [
  {
   "cell_type": "code",
   "execution_count": 1,
   "metadata": {},
   "outputs": [],
   "source": [
    "import pandas as pd\n",
    "from glob import glob\n",
    "import os\n",
    "from cryptography.fernet import Fernet"
   ]
  },
  {
   "cell_type": "code",
   "execution_count": 2,
   "metadata": {},
   "outputs": [],
   "source": [
    "filenames = glob('biola*.csv') \n",
    "dataframes = [pd.read_csv(f) for f in filenames]\n",
    "con = pd.concat([pd.read_csv(fp).assign(Concert=os.path.basename(fp)) for fp in filenames])"
   ]
  },
  {
   "cell_type": "code",
   "execution_count": 3,
   "metadata": {},
   "outputs": [
    {
     "name": "stdout",
     "output_type": "stream",
     "text": [
      "   FirstName  LastName  StudentNumber                       Email  \\\n",
      "56    Gianna  Sullivan        1027046   Gianna.Sullivan@biola.edu   \n",
      "78   Richard    Miller        1067970    Richard.Miller@biola.edu   \n",
      "9   Lilianna     Clark        1073551    Lilianna.Clark@biola.edu   \n",
      "32  Lilianna     Clark        1073551    Lilianna.Clark@biola.edu   \n",
      "43      Brad  Thompson        1141097     Brad.Thompson@biola.edu   \n",
      "..       ...       ...            ...                         ...   \n",
      "62    Robert    Murray        9187547     Robert.Murray@biola.edu   \n",
      "86  Leonardo   Elliott        9190607  Leonardo.Elliott@biola.edu   \n",
      "9       Anna   Higgins        9331857      Anna.Higgins@biola.edu   \n",
      "0     Kelvin    Holmes        9485332     Kelvin.Holmes@biola.edu   \n",
      "22   Heather   Perkins        9579811   Heather.Perkins@biola.edu   \n",
      "\n",
      "        CheckInTime                                            Concert  \n",
      "56   9/7/2019 19:27  biola_Guest-Artist-Katie-Van-Kooten-soprano_20...  \n",
      "78  10/2/2019 12:28  biola_Music-Noon-Mira-Khomik-violin_2019-10-02...  \n",
      "9   10/2/2019 12:23  biola_Music-Noon-Mira-Khomik-violin_2019-10-02...  \n",
      "32   9/7/2019 19:21  biola_Guest-Artist-Katie-Van-Kooten-soprano_20...  \n",
      "43   9/7/2019 19:25  biola_Guest-Artist-Katie-Van-Kooten-soprano_20...  \n",
      "..              ...                                                ...  \n",
      "62  10/2/2019 12:26  biola_Music-Noon-Mira-Khomik-violin_2019-10-02...  \n",
      "86  10/2/2019 12:29  biola_Music-Noon-Mira-Khomik-violin_2019-10-02...  \n",
      "9    9/7/2019 19:13  biola_Guest-Artist-Katie-Van-Kooten-soprano_20...  \n",
      "0    9/7/2019 18:55  biola_Guest-Artist-Katie-Van-Kooten-soprano_20...  \n",
      "22   9/7/2019 19:20  biola_Guest-Artist-Katie-Van-Kooten-soprano_20...  \n",
      "\n",
      "[186 rows x 6 columns]\n"
     ]
    }
   ],
   "source": [
    "con.sort_values(by=[\"StudentNumber\"], inplace = True)\n",
    "print(con)\n",
    "con.to_csv('Master.csv')"
   ]
  },
  {
   "cell_type": "code",
   "execution_count": 10,
   "metadata": {},
   "outputs": [],
   "source": [
    "#This function generates an encryption key\n",
    "key = Fernet.generate_key()\n",
    "  \n",
    "# string the key in a file\n",
    "with open('filekey.key', 'wb') as filekey:\n",
    "    filekey.write(key)\n",
    "\n",
    "with open('filekey.key', 'rb') as filekey:\n",
    "    key = filekey.read()"
   ]
  },
  {
   "cell_type": "code",
   "execution_count": 14,
   "metadata": {},
   "outputs": [],
   "source": [
    "#This function uses the key to encrypt the master file.\n",
    "#using the generated key\n",
    "fernet = Fernet(key)\n",
    "  \n",
    "# opening the original file to encrypt\n",
    "with open('master.csv', 'rb') as file:\n",
    "    original = file.read()\n",
    "      \n",
    "# encrypting the file\n",
    "encrypted = fernet.encrypt(original)\n",
    "  \n",
    "# opening the file in write mode and \n",
    "# writing the encrypted data\n",
    "with open('master.csv', 'wb') as encrypted_file:\n",
    "    encrypted_file.write(encrypted)\n",
    "    "
   ]
  },
  {
   "cell_type": "code",
   "execution_count": 15,
   "metadata": {},
   "outputs": [],
   "source": [
    "#This uses te generated key to decrypt the file.\n",
    "# using the key\n",
    "fernet = Fernet(key)\n",
    "  \n",
    "# opening the encrypted file\n",
    "with open('master.csv', 'rb') as enc_file:\n",
    "    encrypted = enc_file.read()\n",
    "\n",
    "#decrypting the file\n",
    "decrypted = fernet.decrypt(encrypted)\n",
    "  \n",
    "# opening the file in write mode and\n",
    "# writing the decrypted data\n",
    "with open('master.csv', 'wb') as dec_file:\n",
    "    dec_file.write(decrypted)"
   ]
  }
 ],
 "metadata": {
  "kernelspec": {
   "display_name": "Python 3",
   "language": "python",
   "name": "python3"
  },
  "language_info": {
   "codemirror_mode": {
    "name": "ipython",
    "version": 3
   },
   "file_extension": ".py",
   "mimetype": "text/x-python",
   "name": "python",
   "nbconvert_exporter": "python",
   "pygments_lexer": "ipython3",
   "version": "3.8.5"
  }
 },
 "nbformat": 4,
 "nbformat_minor": 5
}
